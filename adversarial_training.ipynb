{
 "cells": [
  {
   "cell_type": "code",
   "execution_count": 1,
   "id": "c792e57e-9d1d-4a89-a4d9-40b75c326128",
   "metadata": {
    "tags": []
   },
   "outputs": [
    {
     "name": "stdout",
     "output_type": "stream",
     "text": [
      "jpg: torch.Size([3, 224, 224]), 0.0\n",
      "pt: torch.Size([3, 224, 224]), 1.0\n"
     ]
    },
    {
     "name": "stderr",
     "output_type": "stream",
     "text": [
      "/home/mjyang/8570/DorPatch/dataloader.py:41: FutureWarning: You are using `torch.load` with `weights_only=False` (the current default value), which uses the default pickle module implicitly. It is possible to construct malicious pickle data which will execute arbitrary code during unpickling (See https://github.com/pytorch/pytorch/blob/main/SECURITY.md#untrusted-models for more details). In a future release, the default value for `weights_only` will be flipped to `True`. This limits the functions that could be executed during unpickling. Arbitrary objects will no longer be allowed to be loaded via this mode unless they are explicitly allowlisted by the user via `torch.serialization.add_safe_globals`. We recommend you start setting `weights_only=True` for any use case where you don't have full control of the loaded file. Please open an issue on GitHub for any issues related to this experimental feature.\n",
      "  image = torch.load(file_path).squeeze(0)\n"
     ]
    }
   ],
   "source": [
    "import torch\n",
    "from torch import nn\n",
    "from torch.optim import Adam\n",
    "from torch.utils.data import Dataset\n",
    "from torch.utils.data import DataLoader\n",
    "from torch.utils.data import random_split\n",
    "from torchvision import transforms\n",
    "from torch.autograd import Variable\n",
    "\n",
    "import os\n",
    "import pandas as pd\n",
    "import argparse\n",
    "import nibabel as nib\n",
    "import skimage.transform as skTrans\n",
    "import numpy as np\n",
    "\n",
    "from IPython import display\n",
    "\n",
    "#load data\n",
    "import dataloader\n",
    "from dataloader import PerturbedDataloader\n",
    "\n",
    "comp = transforms.Compose([\n",
    "    transforms.Resize((224, 224)),\n",
    "    transforms.ToTensor(),\n",
    "])\n",
    "\n",
    "pdl = PerturbedDataloader('./poisonedDataset', transform=comp, csv_file='./labels.csv')\n",
    "\n",
    "image, label = pdl[1]\n",
    "image2, label2 = pdl[628]\n",
    "print(f\"jpg: {image.shape}, {label}\")\n",
    "print(f\"pt: {image2.shape}, {label2}\")"
   ]
  },
  {
   "cell_type": "code",
   "execution_count": 2,
   "id": "20680481-14fe-40a9-a632-6812ef836949",
   "metadata": {
    "tags": []
   },
   "outputs": [],
   "source": [
    "import classifier\n",
    "from classifier import DorPatchClassifier\n",
    "\n",
    "def init_weights(m):\n",
    "    classname = m.__class__.__name__\n",
    "    if classname.find('Conv') != -1 or classname.find('BatchNorm') != -1:\n",
    "        m.weight.data.normal_(0.00, 0.02)\n",
    "        \n",
    "#set up classifier\n",
    "batch_size = 32\n",
    "classifier = DorPatchClassifier()\n",
    "classifier.apply(init_weights)\n",
    "\n",
    "#load model if possible\n",
    "loadModel = False\n",
    "model_path = './DorPatchClassifier.pth'\n",
    "if os.path.exists(model_path) and loadModel:\n",
    "    classifier.load_state_dict(torch.load(model_path))\n",
    "\n",
    "if torch.cuda.is_available():\n",
    "    classifier = classifier.cuda()\n",
    "    \n",
    "optimizer = Adam(classifier.parameters(), lr=0.001, betas=(0.9, 0.999))"
   ]
  },
  {
   "cell_type": "code",
   "execution_count": 3,
   "id": "7166ec7d-c7a0-4554-b039-21d8ab50531d",
   "metadata": {},
   "outputs": [],
   "source": [
    "#training function\n",
    "loss = nn.BCELoss()\n",
    "\n",
    "def train_classifier(optimizer, results, real_data, labels):\n",
    "    optimizer.zero_grad()\n",
    "    labels = labels.unsqueeze(1)\n",
    "    error = loss(results, labels)\n",
    "    error.backward()\n",
    "    optimizer.step()\n",
    "    \n",
    "    prediction = classifier(real_data)\n",
    "    return error, prediction"
   ]
  },
  {
   "cell_type": "code",
   "execution_count": 4,
   "id": "7e8676b9-51fb-4ef6-ba12-1288ae06fe88",
   "metadata": {
    "tags": []
   },
   "outputs": [
    {
     "name": "stdout",
     "output_type": "stream",
     "text": [
      "CLASSIFIER FORWARDED\n",
      "iter: 15/16 of epoch 29/30\n",
      "err: 0.0000\n",
      "pred, gt:\n",
      "\t0.0000, 0.0\n",
      "\t1.0000, 1.0\n",
      "\t1.0000, 1.0\n",
      "\t1.0000, 1.0\n",
      "\t1.0000, 1.0\n",
      "\t0.0000, 0.0\n",
      "\t0.0000, 0.0\n",
      "\t1.0000, 1.0\n",
      "\t0.0000, 0.0\n",
      "\t0.0000, 0.0\n",
      "\t1.0000, 1.0\n",
      "\t0.0000, 0.0\n",
      "\t1.0000, 1.0\n",
      "\t1.0000, 1.0\n",
      "\t1.0000, 1.0\n",
      "\t1.0000, 1.0\n",
      "\t1.0000, 1.0\n",
      "\t1.0000, 1.0\n",
      "\t1.0000, 1.0\n",
      "\t1.0000, 1.0\n",
      "\t1.0000, 1.0\n",
      "\t1.0000, 1.0\n",
      "\t1.0000, 1.0\n"
     ]
    }
   ],
   "source": [
    "#training loop\n",
    "# 80% for training 20% for testing\n",
    "train_size = int(0.8 * len(pdl))  \n",
    "test_size = len(pdl) - train_size  \n",
    "train_dataset, test_dataset = random_split(pdl, [train_size, test_size])\n",
    "\n",
    "train_loader = DataLoader(train_dataset, batch_size=batch_size, shuffle=True)\n",
    "test_loader = DataLoader(test_dataset, batch_size=1, shuffle=True)\n",
    "\n",
    "num_batches = len(train_loader)\n",
    "num_epochs = 30\n",
    "\n",
    "for epoch in range(num_epochs):\n",
    "    for n_batch, (batch, label) in enumerate(train_loader):\n",
    "        real_data = Variable(batch)\n",
    "        result = classifier(real_data)\n",
    "        print(\"CLASSIFIER FORWARDED\")\n",
    "        err, prediction = train_classifier(optimizer, result, real_data, label)\n",
    "        result = result.detach()\n",
    "        #show progress\n",
    "        print(f\"iter: {n_batch}/{num_batches} of epoch {epoch}/{num_epochs}\")\n",
    "        print(f\"err: {err:.4f}\")\n",
    "        print(f\"pred, gt:\")\n",
    "        for i in range(len(prediction)):\n",
    "            print(f\"\\t{prediction[i].item():.4f}, {label[i]%10}\")\n",
    "        display.clear_output(True)\n",
    "torch.save(classifier.state_dict(), model_path)"
   ]
  },
  {
   "cell_type": "code",
   "execution_count": 8,
   "id": "e0eb6234-a42f-4f08-81db-b4d04d85c123",
   "metadata": {
    "tags": []
   },
   "outputs": [
    {
     "name": "stdout",
     "output_type": "stream",
     "text": [
      "avg error: 0.36457696557044983\n",
      "mispredictions: 1 / 126\n"
     ]
    }
   ],
   "source": [
    "import torch\n",
    "from sklearn.metrics import accuracy_score, precision_recall_fscore_support, confusion_matrix\n",
    "\n",
    "total_loss = 0.0\n",
    "\n",
    "mispredicts = 0\n",
    "\n",
    "for n_batch, (batch, label) in enumerate(test_loader):\n",
    "    real_data = Variable(batch)\n",
    "    result = classifier(real_data)\n",
    "    \n",
    "    # Calculate error and prediction using your train_classifier\n",
    "    err, prediction = train_classifier(optimizer, result, real_data, label)\n",
    "    \n",
    "    result = result.detach()\n",
    "    if prediction - result > 0.1:\n",
    "        mispredicts+=1\n",
    "    # Update total loss\n",
    "    total_loss += err\n",
    "\n",
    "    # Show progress\n",
    "print(f\"avg error: {total_loss/len(test_loader)}\")\n",
    "print(f\"mispredictions: {mispredicts} / {len(test_loader)}\")"
   ]
  },
  {
   "cell_type": "code",
   "execution_count": null,
   "id": "d0b8a7b0-5062-4145-843f-c5e7e7806ea8",
   "metadata": {},
   "outputs": [],
   "source": []
  }
 ],
 "metadata": {
  "kernelspec": {
   "display_name": "torch",
   "language": "python",
   "name": "torch"
  },
  "language_info": {
   "codemirror_mode": {
    "name": "ipython",
    "version": 3
   },
   "file_extension": ".py",
   "mimetype": "text/x-python",
   "name": "python",
   "nbconvert_exporter": "python",
   "pygments_lexer": "ipython3",
   "version": "3.12.5"
  }
 },
 "nbformat": 4,
 "nbformat_minor": 5
}
